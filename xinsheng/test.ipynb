{
 "cells": [
  {
   "cell_type": "code",
   "execution_count": 27,
   "metadata": {
    "collapsed": true
   },
   "outputs": [
    {
     "data": {
      "text/plain": [
       "'C:\\\\Users\\\\billions\\\\Documents'"
      ]
     },
     "execution_count": 27,
     "metadata": {},
     "output_type": "execute_result"
    }
   ],
   "source": [
    "import pandas as pd\n",
    "import os\n",
    "from pprint import pprint as pp\n",
    "os.getcwd()"
   ]
  },
  {
   "cell_type": "code",
   "execution_count": 21,
   "metadata": {
    "collapsed": true
   },
   "outputs": [],
   "source": [
    "df = pd.read_csv(r\"D:\\Python\\pycharmWorkspace\\xinsheng\\data\\u.data\",\n",
    "                 sep='\\t',\n",
    "                 # nrows=100,\n",
    "                 names=['user_id', 'item_id', 'rating', 'timestamp'])\n"
   ]
  },
  {
   "cell_type": "code",
   "execution_count": 22,
   "metadata": {},
   "outputs": [],
   "source": [
    "d = dict()"
   ]
  },
  {
   "cell_type": "code",
   "execution_count": 24,
   "metadata": {
    "collapsed": true
   },
   "outputs": [],
   "source": [
    "for _, row in df.iterrows():\n",
    "    user_id = str(row['user_id'])\n",
    "    item_id = str(row['item_id'])\n",
    "    rating = str(row['rating'])\n",
    "    if user_id not in d:\n",
    "        d[user_id] = {item_id: rating}\n",
    "    else:\n",
    "        d[user_id][item_id] = rating\n",
    "# d"
   ]
  },
  {
   "cell_type": "code",
   "execution_count": 28,
   "metadata": {
    "collapsed": true
   },
   "outputs": [
    {
     "name": "stdout",
     "output_type": "stream",
     "text": [
      "{'100': '4',\n '1016': '5',\n '1033': '3',\n '1042': '5',\n '1046': '3',\n '106': '2',\n '1083': '1',\n '117': '5',\n '118': '2',\n '12': '1',\n '121': '2',\n '1213': '3',\n '1253': '4',\n '1277': '4',\n '1336': '3',\n '1385': '2',\n '1399': '2',\n '147': '4',\n '148': '4',\n '159': '5',\n '177': '4',\n '203': '5',\n '225': '4',\n '226': '5',\n '237': '2',\n '243': '2',\n '250': '1',\n '257': '4',\n '258': '1',\n '263': '3',\n '269': '1',\n '281': '4',\n '288': '1',\n '291': '4',\n '294': '3',\n '295': '2',\n '298': '3',\n '299': '3',\n '300': '5',\n '302': '3',\n '303': '3',\n '306': '4',\n '31': '4',\n '322': '5',\n '327': '3',\n '330': '4',\n '331': '3',\n '332': '4',\n '333': '3',\n '338': '3',\n '356': '5',\n '38': '5',\n '385': '4',\n '405': '3',\n '406': '1',\n '44': '5',\n '470': '5',\n '477': '4',\n '53': '1',\n '540': '4',\n '546': '4',\n '55': '4',\n '550': '4',\n '554': '1',\n '56': '3',\n '566': '5',\n '568': '4',\n '588': '4',\n '591': '4',\n '595': '3',\n '596': '4',\n '684': '4',\n '689': '4',\n '71': '5',\n '717': '3',\n '742': '3',\n '754': '2',\n '77': '5',\n '770': '2',\n '79': '5',\n '820': '2',\n '829': '4',\n '880': '3',\n '887': '4',\n '925': '5',\n '934': '3',\n '939': '5',\n '95': '3',\n '977': '3',\n '98': '5',\n '983': '3',\n '988': '4'}\n{'257', '269', '306'}\n"
     ]
    }
   ],
   "source": [
    "(d['196'])\n",
    "pp(d['186'])\n",
    "pp(set(d['196']) & set(d['186']))"
   ]
  },
  {
   "cell_type": "code",
   "execution_count": null,
   "metadata": {},
   "outputs": [],
   "source": [
    "w = dict()"
   ]
  },
  {
   "cell_type": "code",
   "execution_count": 1,
   "metadata": {
    "collapsed": true
   },
   "outputs": [
    {
     "ename": "NameError",
     "evalue": "name 'd' is not defined",
     "traceback": [
      "\u001b[1;31m---------------------------------------------------------------------------\u001b[0m",
      "\u001b[1;31mNameError\u001b[0m                                 Traceback (most recent call last)",
      "\u001b[1;32m<ipython-input-1-a7443320adb5>\u001b[0m in \u001b[0;36m<module>\u001b[1;34m()\u001b[0m\n\u001b[1;32m----> 1\u001b[1;33m \u001b[1;32mfor\u001b[0m \u001b[0mu\u001b[0m \u001b[1;32min\u001b[0m \u001b[0md\u001b[0m\u001b[1;33m:\u001b[0m\u001b[1;33m\u001b[0m\u001b[0m\n\u001b[0m\u001b[0;32m      2\u001b[0m     \u001b[1;32mfor\u001b[0m \u001b[0mv\u001b[0m \u001b[1;32min\u001b[0m \u001b[0md\u001b[0m\u001b[1;33m:\u001b[0m\u001b[1;33m\u001b[0m\u001b[0m\n\u001b[0;32m      3\u001b[0m         \u001b[1;32mif\u001b[0m \u001b[0mu\u001b[0m \u001b[1;32mnot\u001b[0m \u001b[1;32min\u001b[0m \u001b[0mw\u001b[0m\u001b[1;33m:\u001b[0m\u001b[1;33m\u001b[0m\u001b[0m\n\u001b[0;32m      4\u001b[0m             \u001b[0mw\u001b[0m\u001b[1;33m[\u001b[0m\u001b[0mu\u001b[0m\u001b[1;33m]\u001b[0m \u001b[1;33m=\u001b[0m \u001b[0mdict\u001b[0m\u001b[1;33m(\u001b[0m\u001b[1;33m)\u001b[0m\u001b[1;33m\u001b[0m\u001b[0m\n\u001b[0;32m      5\u001b[0m         \u001b[1;32mif\u001b[0m \u001b[0mu\u001b[0m \u001b[1;33m==\u001b[0m \u001b[0mv\u001b[0m\u001b[1;33m:\u001b[0m\u001b[1;33m\u001b[0m\u001b[0m\n",
      "\u001b[1;31mNameError\u001b[0m: name 'd' is not defined"
     ],
     "output_type": "error"
    }
   ],
   "source": [
    "for u in d:\n",
    "    for v in d:\n",
    "        if u not in w:\n",
    "            w[u] = dict()\n",
    "        if u == v:\n",
    "            continue\n",
    "            \n",
    "        w[u][v] = len(set(d[u]) & set(d[v]))\n",
    "        w[u][v] = 2 * w[u][v] / (len(d[u]) + len(d[v]))\n",
    "\n",
    "pp(w[10])"
   ]
  },
  {
   "cell_type": "code",
   "execution_count": null,
   "metadata": {},
   "outputs": [],
   "source": []
  }
 ],
 "metadata": {
  "kernelspec": {
   "display_name": "Python 2",
   "language": "python",
   "name": "python2"
  },
  "language_info": {
   "codemirror_mode": {
    "name": "ipython",
    "version": 2
   },
   "file_extension": ".py",
   "mimetype": "text/x-python",
   "name": "python",
   "nbconvert_exporter": "python",
   "pygments_lexer": "ipython2",
   "version": "2.7.6"
  }
 },
 "nbformat": 4,
 "nbformat_minor": 0
}
